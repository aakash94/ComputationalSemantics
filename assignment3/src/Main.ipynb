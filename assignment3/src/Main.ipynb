{
 "cells": [
  {
   "cell_type": "code",
   "execution_count": 1,
   "id": "f8ce25b8-36ca-45fa-acc6-8f27dc229336",
   "metadata": {},
   "outputs": [
    {
     "name": "stdout",
     "output_type": "stream",
     "text": [
      "Hello World\n"
     ]
    }
   ],
   "source": [
    "print(\"Hello World\")"
   ]
  },
  {
   "cell_type": "code",
   "execution_count": 2,
   "id": "57719b29-aba6-4f95-9c43-21f53ded912c",
   "metadata": {},
   "outputs": [],
   "source": [
    "import os\n",
    "from collections import defaultdict\n",
    "import json"
   ]
  },
  {
   "cell_type": "code",
   "execution_count": 3,
   "id": "c9810148-1a61-45e4-9ad1-cb37a15b92c7",
   "metadata": {},
   "outputs": [],
   "source": [
    "data_path = os.path.join(\"..\",\"res\",\"semeval2017-task8-dataset\",\"rumoureval-data\")"
   ]
  },
  {
   "cell_type": "code",
   "execution_count": 4,
   "id": "efa0b777-4a80-4301-b673-af32485d012b",
   "metadata": {},
   "outputs": [],
   "source": [
    "def pre_process(folder_name = 'prince-toronto'):\n",
    "    tweet_text_dict = defaultdict(str)\n",
    "    tweet_parent_dict = defaultdict(str)\n",
    "    \n",
    "    \n",
    "    folder_path = os.path.join(data_path, folder_name)\n",
    "    main_tweets = os.listdir(folder_path)\n",
    "    for twt in main_tweets:\n",
    "        tweet_path = os.path.join(folder_path, twt)\n",
    "        \n",
    "        twt_file_name = twt+\".json\"\n",
    "        original_tweet_path = os.path.join(tweet_path, 'source-tweet', twt_file_name)\n",
    "        with open(original_tweet_path) as json_file:\n",
    "            twt_json = json.load(json_file)\n",
    "            tweet_text_dict[twt] = twt_json['text']\n",
    "            tweet_parent_dict[twt] = str(twt_json['in_reply_to_status_id'])\n",
    "            if(twt_json['in_reply_to_status_id'] == None):\n",
    "                tweet_parent_dict[twt] = \"\"\n",
    "                \n",
    "            \n",
    "        reply_folder = os.path.join(tweet_path, 'replies')\n",
    "        reply_tweets = os.listdir(reply_folder)\n",
    "        for reply_tweet in reply_tweets:\n",
    "            reply_path = os.path.join(reply_folder, reply_tweet)\n",
    "            with open(reply_path) as json_file:\n",
    "                twt_json = json.load(json_file)\n",
    "                twt_id = twt_json['id']\n",
    "                tweet_text_dict[twt_id] = twt_json['text']\n",
    "                tweet_parent_dict[twt_id] = str(twt_json['in_reply_to_status_id'])\n",
    "                if(twt_json['in_reply_to_status_id'] == None):\n",
    "                    tweet_parent_dict[twt_id] = \"\"\n",
    "            \n",
    "        \n",
    "        \n",
    "    \n",
    "    return tweet_text_dict, tweet_parent_dict\n",
    "    "
   ]
  },
  {
   "cell_type": "code",
   "execution_count": 5,
   "id": "52a8f766-1be0-4331-a189-1c63da125476",
   "metadata": {},
   "outputs": [],
   "source": [
    "tweet_text_dict = {}\n",
    "tweet_parent_dict = {}\n",
    "\n",
    "rumour_topics = os.listdir(data_path)\n",
    "for rumour_topic in rumour_topics:\n",
    "    text_dict, parent_dict = pre_process(folder_name = rumour_topic)\n",
    "    tweet_text_dict.update(text_dict)\n",
    "    tweet_parent_dict.update(parent_dict)\n"
   ]
  },
  {
   "cell_type": "code",
   "execution_count": 6,
   "id": "d18c7445-db57-44d8-b7d6-3b8b93b37949",
   "metadata": {},
   "outputs": [],
   "source": [
    "text_dump_path = os.path.join(\"..\",\"res\", \"pre_processed\", \"tweet_texts.json\")\n",
    "with open(text_dump_path, 'w') as outfile:\n",
    "    json.dump(tweet_text_dict, outfile)"
   ]
  },
  {
   "cell_type": "code",
   "execution_count": 7,
   "id": "d979870c-d3da-40da-b1f1-e63d48ff0ae2",
   "metadata": {},
   "outputs": [],
   "source": [
    "parent_dump_path = os.path.join(\"..\",\"res\", \"pre_processed\", \"tweet_parents.json\")\n",
    "with open(parent_dump_path, 'w') as outfile:\n",
    "    json.dump(tweet_parent_dict, outfile)"
   ]
  },
  {
   "cell_type": "code",
   "execution_count": 8,
   "id": "1570f371-df2c-4601-9b93-1fbd2e3904ec",
   "metadata": {},
   "outputs": [
    {
     "name": "stdout",
     "output_type": "stream",
     "text": [
      "Type: <class 'dict'>\n"
     ]
    }
   ],
   "source": [
    "with open(parent_dump_path) as json_file:\n",
    "    data = json.load(json_file)\n",
    " \n",
    "    print(\"Type:\", type(data))\n"
   ]
  },
  {
   "cell_type": "code",
   "execution_count": null,
   "id": "cffa6c3d-f512-4a47-9b5e-7ddd188a2dc0",
   "metadata": {},
   "outputs": [],
   "source": []
  }
 ],
 "metadata": {
  "kernelspec": {
   "display_name": "Python 3 (ipykernel)",
   "language": "python",
   "name": "python3"
  },
  "language_info": {
   "codemirror_mode": {
    "name": "ipython",
    "version": 3
   },
   "file_extension": ".py",
   "mimetype": "text/x-python",
   "name": "python",
   "nbconvert_exporter": "python",
   "pygments_lexer": "ipython3",
   "version": "3.9.7"
  }
 },
 "nbformat": 4,
 "nbformat_minor": 5
}

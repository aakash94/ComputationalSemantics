{
 "cells": [
  {
   "cell_type": "code",
   "execution_count": 55,
   "id": "acd7afcf-ad0c-49cc-bc83-31aced22dd34",
   "metadata": {},
   "outputs": [],
   "source": [
    "import os\n",
    "import logging\n",
    "import json\n",
    "import random\n",
    "import pandas as pd\n",
    "import numpy as np\n",
    "import re\n",
    "from happytransformer import HappyTextClassification\n",
    "from sklearn.model_selection import train_test_split\n",
    "from Classifier9000 import GenericClassifier"
   ]
  },
  {
   "cell_type": "code",
   "execution_count": 56,
   "id": "5ac6cffa-0e83-45cd-9bbe-db339c1030c4",
   "metadata": {},
   "outputs": [
    {
     "name": "stderr",
     "output_type": "stream",
     "text": [
      "Some weights of the model checkpoint at distilbert-base-uncased were not used when initializing DistilBertForSequenceClassification: ['vocab_transform.bias', 'vocab_layer_norm.bias', 'vocab_layer_norm.weight', 'vocab_transform.weight', 'vocab_projector.weight', 'vocab_projector.bias']\n",
      "- This IS expected if you are initializing DistilBertForSequenceClassification from the checkpoint of a model trained on another task or with another architecture (e.g. initializing a BertForSequenceClassification model from a BertForPreTraining model).\n",
      "- This IS NOT expected if you are initializing DistilBertForSequenceClassification from the checkpoint of a model that you expect to be exactly identical (initializing a BertForSequenceClassification model from a BertForSequenceClassification model).\n",
      "Some weights of DistilBertForSequenceClassification were not initialized from the model checkpoint at distilbert-base-uncased and are newly initialized: ['classifier.bias', 'classifier.weight', 'pre_classifier.bias', 'pre_classifier.weight']\n",
      "You should probably TRAIN this model on a down-stream task to be able to use it for predictions and inference.\n"
     ]
    }
   ],
   "source": [
    "gc = GenericClassifier()\n",
    "gc.load_model()"
   ]
  },
  {
   "cell_type": "code",
   "execution_count": 64,
   "id": "bea20c1a-feab-47af-b63e-df4a58b306a9",
   "metadata": {},
   "outputs": [],
   "source": [
    "FILE_PATH = \"../res/semeval2017-task8-dataset/traindev/rumoureval-subtaskA-dev.json\"\n",
    "#FILE_PATH = \"../res/semeval2017-task8-dataset/traindev/rumoureval-subtaskA-train.json\""
   ]
  },
  {
   "cell_type": "code",
   "execution_count": 58,
   "id": "269205de-23d7-4309-9739-ac6d8d1bc7b0",
   "metadata": {},
   "outputs": [],
   "source": [
    "def load_dicts(preprocessed_path):\n",
    "    preprocessed_text_path = os.path.join(preprocessed_path, \"tweet_texts.json\")\n",
    "    preprocessed_parents_path = os.path.join(preprocessed_path, \"tweet_parents.json\")\n",
    "    text_d = {}\n",
    "    parents_d = {}\n",
    "\n",
    "    with open(preprocessed_text_path) as json_file:\n",
    "        text_d = json.load(json_file)\n",
    "\n",
    "    with open(preprocessed_parents_path) as json_file:\n",
    "        parents_d = json.load(json_file)\n",
    "\n",
    "    return text_d, parents_d\n"
   ]
  },
  {
   "cell_type": "code",
   "execution_count": 59,
   "id": "56a29a92-46ad-4a4e-aa2c-e5af4178afd2",
   "metadata": {},
   "outputs": [],
   "source": [
    "def cleanify_tweet(tweet):\n",
    "    # remove @mentions\n",
    "    clean_tweet = re.sub(\"@[A-Za-z0-9_]+\",\"\", tweet)\n",
    "    \n",
    "    # remove #hashtags\n",
    "    clean_tweet = re.sub(\"#[A-Za-z0-9_]+\",\"\", clean_tweet)\n",
    "    \n",
    "    # remove http:// urls\n",
    "    clean_tweet = re.sub(r'http\\S+', \"\", clean_tweet)\n",
    "    \n",
    "    clean_tweet = \" \".join(clean_tweet.split())\n",
    "    \n",
    "    return clean_tweet"
   ]
  },
  {
   "cell_type": "code",
   "execution_count": 65,
   "id": "0d655b6b-6138-4a64-b1ec-80addb9fa3fd",
   "metadata": {},
   "outputs": [],
   "source": [
    "\n",
    "subtaskA={}\n",
    "with open(FILE_PATH) as json_file:\n",
    "    subtaskA = json.load(json_file)\n",
    "\n",
    "\n",
    "tweet_ids = subtaskA.keys()\n",
    "targets = subtaskA.values()\n",
    "preprocessed_path = os.path.join(\"..\", \"res\", \"pre_processed\")\n",
    "text_d, parents_d = load_dicts(preprocessed_path=preprocessed_path)\n",
    "tweets = [text_d[x] for x in tweet_ids]\n",
    "\n",
    "cleaned_tweets = [cleanify_tweet(x) for x in tweets]\n",
    "tweets = cleaned_tweets\n"
   ]
  },
  {
   "cell_type": "code",
   "execution_count": 66,
   "id": "41f4ad9d-7402-4f75-a6ff-33924f0fddd3",
   "metadata": {},
   "outputs": [
    {
     "name": "stdout",
     "output_type": "stream",
     "text": [
      "281\n",
      "281\n"
     ]
    }
   ],
   "source": [
    "print(len(tweets))\n",
    "print(len(targets))"
   ]
  },
  {
   "cell_type": "code",
   "execution_count": 67,
   "id": "1b9aa3c2-8578-485e-845f-982b442152ce",
   "metadata": {},
   "outputs": [
    {
     "name": "stdout",
     "output_type": "stream",
     "text": [
      "281\n"
     ]
    }
   ],
   "source": [
    "preds = gc.predict(tweets)\n",
    "print(len(preds))"
   ]
  },
  {
   "cell_type": "code",
   "execution_count": 68,
   "id": "865fc02d-41d4-4466-86c5-7ad064b994fa",
   "metadata": {},
   "outputs": [
    {
     "name": "stdout",
     "output_type": "stream",
     "text": [
      "0.41637010676156583\n"
     ]
    }
   ],
   "source": [
    "correct = sum(x == y for x, y in zip(preds, targets))\n",
    "print(correct/len(preds))"
   ]
  },
  {
   "cell_type": "code",
   "execution_count": null,
   "id": "a3fe6213-a772-4f55-9b93-9c2bbac9ba99",
   "metadata": {},
   "outputs": [],
   "source": []
  }
 ],
 "metadata": {
  "kernelspec": {
   "display_name": "Python 3 (ipykernel)",
   "language": "python",
   "name": "python3"
  },
  "language_info": {
   "codemirror_mode": {
    "name": "ipython",
    "version": 3
   },
   "file_extension": ".py",
   "mimetype": "text/x-python",
   "name": "python",
   "nbconvert_exporter": "python",
   "pygments_lexer": "ipython3",
   "version": "3.9.7"
  }
 },
 "nbformat": 4,
 "nbformat_minor": 5
}

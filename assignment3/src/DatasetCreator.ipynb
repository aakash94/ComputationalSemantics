{
 "cells": [
  {
   "cell_type": "code",
   "execution_count": 42,
   "id": "f0f8478f-2bda-420f-a627-a1bf10e9832d",
   "metadata": {},
   "outputs": [
    {
     "name": "stdout",
     "output_type": "stream",
     "text": [
      "Hello World!\n"
     ]
    }
   ],
   "source": [
    "import tqdm\n",
    "import os\n",
    "import json\n",
    "print(\"Hello World!\")"
   ]
  },
  {
   "cell_type": "code",
   "execution_count": 43,
   "id": "5614b513-e132-4138-9f87-5fa0af8c43c8",
   "metadata": {},
   "outputs": [],
   "source": [
    "def load_dicts(preprocessed_path):\n",
    "    preprocessed_text_path = os.path.join(preprocessed_path, \"tweet_texts.json\")\n",
    "    preprocessed_parents_path = os.path.join(preprocessed_path, \"tweet_parents.json\")\n",
    "    text_d = {}\n",
    "    parents_d = {}\n",
    "\n",
    "    with open(preprocessed_text_path) as json_file:\n",
    "        text_d = json.load(json_file)\n",
    "\n",
    "    with open(preprocessed_parents_path) as json_file:\n",
    "        parents_d = json.load(json_file)\n",
    "\n",
    "    return text_d, parents_d\n"
   ]
  },
  {
   "cell_type": "code",
   "execution_count": 44,
   "id": "32fa9eee-04a4-4fa3-b731-c2a0b35fa731",
   "metadata": {},
   "outputs": [],
   "source": [
    "preprocessed_path = os.path.join(\"..\", \"res\", \"pre_processed\")\n",
    "text_d, parents_d = load_dicts(preprocessed_path=preprocessed_path)"
   ]
  },
  {
   "cell_type": "code",
   "execution_count": 45,
   "id": "5d4f9c83-2d78-406b-8738-45bd97e9951b",
   "metadata": {},
   "outputs": [],
   "source": [
    "FILE_PATH = \"../res/semeval2017-task8-dataset/traindev/rumoureval-subtaskA-train.json\"\n",
    "#FILE_PATH = \"../res/semeval2017-task8-dataset/traindev/rumoureval-subtaskA-dev.json\"\n",
    "DUMP_FILE_ROOT = os.path.join(\"..\",\"res\",\"simple_classification_dataset\", \"data\")"
   ]
  },
  {
   "cell_type": "code",
   "execution_count": 46,
   "id": "2dd3c373-40cb-482e-b5fb-25ed2bcccc94",
   "metadata": {},
   "outputs": [],
   "source": [
    "subtaskA={}\n",
    "with open(FILE_PATH) as json_file:\n",
    "    subtaskA = json.load(json_file)"
   ]
  },
  {
   "cell_type": "code",
   "execution_count": 47,
   "id": "f51ad5bf-ed31-4fb6-9256-12b115d0ca3b",
   "metadata": {},
   "outputs": [
    {
     "name": "stderr",
     "output_type": "stream",
     "text": [
      "100%|█████████████████████████████████████████████████████████████████████████████| 4238/4238 [00:30<00:00, 137.78it/s]\n"
     ]
    }
   ],
   "source": [
    "for tweet_id, target in tqdm.tqdm(subtaskA.items()):\n",
    "    target_file_name = target+\".txt\"\n",
    "    target_file_path = os.path.join(DUMP_FILE_ROOT, target_file_name)\n",
    "    tweet_string = text_d[tweet_id]\n",
    "    tweet_string = \" \".join(tweet_string.split())\n",
    "    #tweet_string = tweet_string.encode(\"utf-8\")\n",
    "    #tweet_string = tweet_string + \"\\n\"\n",
    "    \n",
    "    with open(target_file_path, \"a+\", encoding=\"utf-8\") as file_object:\n",
    "        file_object.write(tweet_string)\n",
    "        file_object.write(\"\\n\")    \n",
    "    "
   ]
  },
  {
   "cell_type": "code",
   "execution_count": 59,
   "id": "0d8798f6-d66e-4a44-bee5-995d81959946",
   "metadata": {},
   "outputs": [
    {
     "name": "stdout",
     "output_type": "stream",
     "text": [
      "['g', 'a']\n"
     ]
    }
   ],
   "source": [
    "import random\n",
    "a = [\"a\", \"b\", \"c\", \"d\", \"e\", \"f\", \"g\", \"h\", \"i\", \"j\"]\n",
    "b = random.sample(a, 2)\n",
    "\n",
    "print(b)"
   ]
  },
  {
   "cell_type": "code",
   "execution_count": null,
   "id": "b0ac2f57-8bcf-43fb-8b0a-065a51776662",
   "metadata": {},
   "outputs": [],
   "source": []
  }
 ],
 "metadata": {
  "kernelspec": {
   "display_name": "Python 3 (ipykernel)",
   "language": "python",
   "name": "python3"
  },
  "language_info": {
   "codemirror_mode": {
    "name": "ipython",
    "version": 3
   },
   "file_extension": ".py",
   "mimetype": "text/x-python",
   "name": "python",
   "nbconvert_exporter": "python",
   "pygments_lexer": "ipython3",
   "version": "3.9.7"
  }
 },
 "nbformat": 4,
 "nbformat_minor": 5
}

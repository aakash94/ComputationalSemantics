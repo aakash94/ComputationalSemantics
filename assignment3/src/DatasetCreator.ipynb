{
 "cells": [
  {
   "cell_type": "code",
   "execution_count": 8,
   "id": "f0f8478f-2bda-420f-a627-a1bf10e9832d",
   "metadata": {},
   "outputs": [
    {
     "name": "stdout",
     "output_type": "stream",
     "text": [
      "Hello World!\n"
     ]
    }
   ],
   "source": [
    "import tqdm\n",
    "import os\n",
    "import json\n",
    "import re\n",
    "print(\"Hello World!\")"
   ]
  },
  {
   "cell_type": "code",
   "execution_count": 9,
   "id": "5614b513-e132-4138-9f87-5fa0af8c43c8",
   "metadata": {},
   "outputs": [],
   "source": [
    "def load_dicts(preprocessed_path):\n",
    "    preprocessed_text_path = os.path.join(preprocessed_path, \"tweet_texts.json\")\n",
    "    preprocessed_parents_path = os.path.join(preprocessed_path, \"tweet_parents.json\")\n",
    "    text_d = {}\n",
    "    parents_d = {}\n",
    "\n",
    "    with open(preprocessed_text_path) as json_file:\n",
    "        text_d = json.load(json_file)\n",
    "\n",
    "    with open(preprocessed_parents_path) as json_file:\n",
    "        parents_d = json.load(json_file)\n",
    "\n",
    "    return text_d, parents_d\n"
   ]
  },
  {
   "cell_type": "code",
   "execution_count": 10,
   "id": "563ed2e6-7d36-4e2c-aee2-3f9204add67b",
   "metadata": {},
   "outputs": [],
   "source": [
    "def cleanify_tweet(tweet):\n",
    "    # remove @mentions\n",
    "    clean_tweet = re.sub(\"@[A-Za-z0-9_]+\",\"\", tweet)\n",
    "    \n",
    "    # remove #hashtags\n",
    "    clean_tweet = re.sub(\"#[A-Za-z0-9_]+\",\"\", clean_tweet)\n",
    "    \n",
    "    # remove http:// urls\n",
    "    clean_tweet = re.sub(r'http\\S+', \"\", clean_tweet)\n",
    "    \n",
    "    clean_tweet = \" \".join(clean_tweet.split())\n",
    "    \n",
    "    return clean_tweet"
   ]
  },
  {
   "cell_type": "code",
   "execution_count": 11,
   "id": "32fa9eee-04a4-4fa3-b731-c2a0b35fa731",
   "metadata": {},
   "outputs": [],
   "source": [
    "preprocessed_path = os.path.join(\"..\", \"res\", \"pre_processed\")\n",
    "text_d, parents_d = load_dicts(preprocessed_path=preprocessed_path)"
   ]
  },
  {
   "cell_type": "code",
   "execution_count": 12,
   "id": "5d4f9c83-2d78-406b-8738-45bd97e9951b",
   "metadata": {},
   "outputs": [],
   "source": [
    "FILE_PATH = \"../res/semeval2017-task8-dataset/traindev/rumoureval-subtaskA-train.json\"\n",
    "#FILE_PATH = \"../res/semeval2017-task8-dataset/traindev/rumoureval-subtaskA-dev.json\"\n",
    "DUMP_FILE_ROOT = os.path.join(\"..\",\"res\",\"simple_classification_dataset\", \"data\")"
   ]
  },
  {
   "cell_type": "code",
   "execution_count": 13,
   "id": "2dd3c373-40cb-482e-b5fb-25ed2bcccc94",
   "metadata": {},
   "outputs": [],
   "source": [
    "subtaskA={}\n",
    "with open(FILE_PATH) as json_file:\n",
    "    subtaskA = json.load(json_file)"
   ]
  },
  {
   "cell_type": "code",
   "execution_count": 15,
   "id": "f51ad5bf-ed31-4fb6-9256-12b115d0ca3b",
   "metadata": {},
   "outputs": [
    {
     "name": "stderr",
     "output_type": "stream",
     "text": [
      "100%|█████████████████████████████████████████████████████████████████████████████| 4238/4238 [00:27<00:00, 154.62it/s]\n"
     ]
    }
   ],
   "source": [
    "for tweet_id, target in tqdm.tqdm(subtaskA.items()):\n",
    "    target_file_name = target+\".txt\"\n",
    "    target_file_path = os.path.join(DUMP_FILE_ROOT, target_file_name)\n",
    "    tweet_string = text_d[tweet_id]\n",
    "    #tweet_string = tweet_string.encode(\"utf-8\")\n",
    "    #tweet_string = tweet_string + \"\\n\"\n",
    "    tweet_string = cleanify_tweet(tweet_string)\n",
    "    if len(tweet_string)<=0:\n",
    "        # in case there is nothing left after cleaning up the string\n",
    "        continue\n",
    "    \n",
    "    \n",
    "    with open(target_file_path, \"a+\", encoding=\"utf-8\") as file_object:\n",
    "        file_object.write(tweet_string)\n",
    "        file_object.write(\"\\n\")    \n",
    "    "
   ]
  },
  {
   "cell_type": "code",
   "execution_count": null,
   "id": "7abf02c5-1dcd-412d-a7ea-7b97d8b28fc8",
   "metadata": {},
   "outputs": [],
   "source": []
  }
 ],
 "metadata": {
  "kernelspec": {
   "display_name": "Python 3 (ipykernel)",
   "language": "python",
   "name": "python3"
  },
  "language_info": {
   "codemirror_mode": {
    "name": "ipython",
    "version": 3
   },
   "file_extension": ".py",
   "mimetype": "text/x-python",
   "name": "python",
   "nbconvert_exporter": "python",
   "pygments_lexer": "ipython3",
   "version": "3.9.7"
  }
 },
 "nbformat": 4,
 "nbformat_minor": 5
}
